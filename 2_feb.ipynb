{
  "nbformat": 4,
  "nbformat_minor": 0,
  "metadata": {
    "colab": {
      "provenance": [],
      "authorship_tag": "ABX9TyPfonNpUTgGf7HLGc2NiUK3",
      "include_colab_link": true
    },
    "kernelspec": {
      "name": "python3",
      "display_name": "Python 3"
    },
    "language_info": {
      "name": "python"
    }
  },
  "cells": [
    {
      "cell_type": "markdown",
      "metadata": {
        "id": "view-in-github",
        "colab_type": "text"
      },
      "source": [
        "<a href=\"https://colab.research.google.com/github/Rahul-phyton-code/Tuples-sets-and-dictionaries/blob/main/2_feb.ipynb\" target=\"_parent\"><img src=\"https://colab.research.google.com/assets/colab-badge.svg\" alt=\"Open In Colab\"/></a>"
      ]
    },
    {
      "cell_type": "markdown",
      "source": [
        "1.) Tuples are a data type that belongs to the sequence data type category. They're similar to lists in Python, but they have the property of being immutable. We can't change the elements of a tuple, but we can execute a variety of actions on them such as count, index, type, etc."
      ],
      "metadata": {
        "id": "ZSIx0_zSPboZ"
      }
    },
    {
      "cell_type": "markdown",
      "source": [
        "2.) Python has two built-in methods that you can use on tuples.\n",
        "\n",
        "count() :\tReturns the number of times a specified value occurs in a tuple\n",
        "index() :\tSearches the tuple for a specified value and returns the position of where it was found\n",
        "\n",
        "Lists have several built-in methods. A unexpected change or error is more likely to occur in a list. In a tuple, changes and errors don't usually occur because of immutability."
      ],
      "metadata": {
        "id": "TzfmBOY4QY8A"
      }
    },
    {
      "cell_type": "markdown",
      "source": [
        "3.) Set is a collection which is unordered and unindexed and do not allow duplicate items"
      ],
      "metadata": {
        "id": "GgazDXxcRYLk"
      }
    },
    {
      "cell_type": "code",
      "source": [
        "List = [1, 1, 1, 2, 1, 3, 1, 4, 2, 1, 2, 2, 2, 3, 2, 4, 3, 1, 3, 2, 3, 3, 3, 4, 4, 1, 4, 2, 4, 3, 4, 4]\n",
        "unique = []\n",
        "for num in List:\n",
        "  if num not in unique:\n",
        "    unique.append(num)\n",
        "print(unique)    "
      ],
      "metadata": {
        "colab": {
          "base_uri": "https://localhost:8080/"
        },
        "id": "fiH9WOd5Rt-d",
        "outputId": "f06ff25d-dbf0-475f-a597-cd495b452bc7"
      },
      "execution_count": 1,
      "outputs": [
        {
          "output_type": "stream",
          "name": "stdout",
          "text": [
            "[1, 2, 3, 4]\n"
          ]
        }
      ]
    },
    {
      "cell_type": "markdown",
      "source": [
        "4.) "
      ],
      "metadata": {
        "id": "OZXf44iaToz2"
      }
    },
    {
      "cell_type": "code",
      "source": [
        "set1 = {1,2,3,4,5}\n",
        "set2 = {1,2,3,7,90}\n",
        "set3 = {1,2,100,1000}\n",
        "# union\n",
        "print(set1|set2|set3)\n",
        "# update\n",
        "set2.update(set3)"
      ],
      "metadata": {
        "colab": {
          "base_uri": "https://localhost:8080/"
        },
        "id": "EXCrD-TfTvU_",
        "outputId": "3b27b99b-36c8-45d0-f265-02150d9fee02"
      },
      "execution_count": 2,
      "outputs": [
        {
          "output_type": "stream",
          "name": "stdout",
          "text": [
            "{1, 2, 3, 4, 5, 100, 7, 1000, 90}\n"
          ]
        }
      ]
    },
    {
      "cell_type": "code",
      "source": [
        "set2 = {1,2,3,7,90}\n",
        "# update\n",
        "set2.update({1,2,100,1000})"
      ],
      "metadata": {
        "id": "yu1fEjfsUvjK"
      },
      "execution_count": 4,
      "outputs": []
    },
    {
      "cell_type": "markdown",
      "source": [
        "5.) The dictionary is an unordered collection that contains key:value pairs separated by commas inside curly brackets. Dictionaries are optimized to retrieve values when the key is known. The following declares a dictionary object"
      ],
      "metadata": {
        "id": "lbJahdk4VGrO"
      }
    },
    {
      "cell_type": "code",
      "source": [
        "capitals = {\"USA\":\"Washington D.C.\", \"France\":\"Paris\", \"India\":\"New Delhi\"}\n",
        "print(type(capitals))"
      ],
      "metadata": {
        "colab": {
          "base_uri": "https://localhost:8080/"
        },
        "id": "3HpajJvSVQN2",
        "outputId": "8febda17-e919-4f0b-d14f-d661f02e4363"
      },
      "execution_count": 5,
      "outputs": [
        {
          "output_type": "stream",
          "name": "stdout",
          "text": [
            "<class 'dict'>\n"
          ]
        }
      ]
    },
    {
      "cell_type": "markdown",
      "source": [
        "6.) In Python, a nested dictionary is a dictionary inside a dictionary. It's a collection of dictionaries into one single dictionary."
      ],
      "metadata": {
        "id": "6hCtOX9RVURR"
      }
    },
    {
      "cell_type": "code",
      "source": [
        "Dict = {1: 'Geeks', 2: 'For', 3: {'A' : 'Welcome', 'B' : 'To', 'C' : 'Geeks'}}\n",
        "print(Dict)"
      ],
      "metadata": {
        "colab": {
          "base_uri": "https://localhost:8080/"
        },
        "id": "3oWv6beGWDZM",
        "outputId": "fc4337fa-d464-4cc7-c30c-1b6f830418a5"
      },
      "execution_count": 6,
      "outputs": [
        {
          "output_type": "stream",
          "name": "stdout",
          "text": [
            "{1: 'Geeks', 2: 'For', 3: {'A': 'Welcome', 'B': 'To', 'C': 'Geeks'}}\n"
          ]
        }
      ]
    },
    {
      "cell_type": "markdown",
      "source": [
        "7.)If we use Python Dictionary setdefault() method on any existing key of a dictionary, it’ll return the value of the existing key, but will not modify the dictionary key."
      ],
      "metadata": {
        "id": "WP2JUjF9Wza_"
      }
    },
    {
      "cell_type": "code",
      "source": [
        "dict1 = {'language' : 'Python', 'course': 'Data Science Masters'}\n",
        "print(\"using set default function\",dict1.setdefault(\"course\",'Machine Learning'))\n",
        "print(\"after using dict1\",dict1)"
      ],
      "metadata": {
        "colab": {
          "base_uri": "https://localhost:8080/"
        },
        "id": "hMuzf8qGW3SG",
        "outputId": "4d710f72-b9b6-45ca-a6b5-95f64c4ea57c"
      },
      "execution_count": 12,
      "outputs": [
        {
          "output_type": "stream",
          "name": "stdout",
          "text": [
            "using set default function Data Science Masters\n",
            "after using dict1 {'language': 'Python', 'course': 'Data Science Masters'}\n"
          ]
        }
      ]
    },
    {
      "cell_type": "markdown",
      "source": [
        "8.) The main view objects of dictionary in python are keys, values and items."
      ],
      "metadata": {
        "id": "TxrJNYYVZYWv"
      }
    },
    {
      "cell_type": "code",
      "source": [
        "dict1 = {'Sport': 'Cricket' , 'Teams': ['India', 'Australia', 'England', 'South Africa', 'Sri Lanka', 'New Zealand']}\n",
        "print(dict1.items())\n",
        "print(dict1.keys())\n",
        "print(dict1.values())"
      ],
      "metadata": {
        "colab": {
          "base_uri": "https://localhost:8080/"
        },
        "id": "phhdZN92ZePO",
        "outputId": "5a38d6a5-5009-41a1-f720-62888edbecc2"
      },
      "execution_count": 15,
      "outputs": [
        {
          "output_type": "stream",
          "name": "stdout",
          "text": [
            "dict_items([('Sport', 'Cricket'), ('Teams', ['India', 'Australia', 'England', 'South Africa', 'Sri Lanka', 'New Zealand'])])\n",
            "dict_keys(['Sport', 'Teams'])\n",
            "dict_values(['Cricket', ['India', 'Australia', 'England', 'South Africa', 'Sri Lanka', 'New Zealand']])\n"
          ]
        }
      ]
    }
  ]
}